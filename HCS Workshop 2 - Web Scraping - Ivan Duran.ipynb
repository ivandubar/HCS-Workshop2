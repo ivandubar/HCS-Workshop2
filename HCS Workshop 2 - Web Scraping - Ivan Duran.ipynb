{
 "cells": [
  {
   "cell_type": "code",
   "execution_count": 2,
   "metadata": {},
   "outputs": [],
   "source": [
    "# HCS Workshop 2, Web Scraping"
   ]
  },
  {
   "cell_type": "code",
   "execution_count": 3,
   "metadata": {},
   "outputs": [],
   "source": [
    "# Author: Ivan Duran"
   ]
  },
  {
   "cell_type": "code",
   "execution_count": 4,
   "metadata": {},
   "outputs": [
    {
     "name": "stdout",
     "output_type": "stream",
     "text": [
      "200\n",
      "b'<!DOCTYPE html>\\n<html>\\n    <head>\\n        <title>A simple example page</title>\\n    </head>\\n    <body>\\n        <p>Here is some simple content for this page.</p>\\n    </body>\\n</html>'\n"
     ]
    }
   ],
   "source": [
    "# import requests package and set up page\n",
    "\n",
    "import requests\n",
    "page = requests.get(\"http://dataquestio.github.io/web-scraping-pages/simple.html\")\n",
    "print(page.status_code)\n",
    "print(page.content)"
   ]
  },
  {
   "cell_type": "code",
   "execution_count": 5,
   "metadata": {},
   "outputs": [
    {
     "name": "stdout",
     "output_type": "stream",
     "text": [
      "<!DOCTYPE html>\n",
      "<html>\n",
      " <head>\n",
      "  <title>\n",
      "   A simple example page\n",
      "  </title>\n",
      " </head>\n",
      " <body>\n",
      "  <p>\n",
      "   Here is some simple content for this page.\n",
      "  </p>\n",
      " </body>\n",
      "</html>\n"
     ]
    }
   ],
   "source": [
    "# import BeautifulSoup and make a \"BeautifulSoup object\"\n",
    "# sudo apt-get install python-bs4\n",
    "\n",
    "from bs4 import BeautifulSoup\n",
    "soup = BeautifulSoup(page.content, 'html.parser')\n",
    "print(soup.prettify())"
   ]
  },
  {
   "cell_type": "code",
   "execution_count": 6,
   "metadata": {},
   "outputs": [
    {
     "name": "stdout",
     "output_type": "stream",
     "text": [
      "head\n",
      "<p>Here is some simple content for this page.</p>\n",
      "\n"
     ]
    }
   ],
   "source": [
    "# list soup children, title, etc. \n",
    "\n",
    "list(soup.children)\n",
    "list(soup.title)\n",
    "print(soup.title.parent.name)\n",
    "print(soup.p)\n",
    "print()"
   ]
  },
  {
   "cell_type": "code",
   "execution_count": 7,
   "metadata": {},
   "outputs": [
    {
     "data": {
      "text/plain": [
       "'Here is some simple content for this page.'"
      ]
     },
     "execution_count": 7,
     "metadata": {},
     "output_type": "execute_result"
    }
   ],
   "source": [
    "# more printing\n",
    "html = list(soup.children)[2]\n",
    "list(html.children)\n",
    "body = list(html.children)[3]\n",
    "list(body.children)\n",
    "p = list(body.children)[1]\n",
    "p.get_text()\n"
   ]
  },
  {
   "cell_type": "code",
   "execution_count": 8,
   "metadata": {},
   "outputs": [
    {
     "data": {
      "text/plain": [
       "<body>\n",
       "<p>Here is some simple content for this page.</p>\n",
       "</body>"
      ]
     },
     "execution_count": 8,
     "metadata": {},
     "output_type": "execute_result"
    }
   ],
   "source": [
    "# find function\n",
    "soup.find('head')\n",
    "soup.find('body')"
   ]
  },
  {
   "cell_type": "code",
   "execution_count": 9,
   "metadata": {},
   "outputs": [],
   "source": [
    "# more sources \n",
    "# https://beautiful-soup-4.readthedocs.io/en/latest/\n",
    "# https://www.dataquest.io/blog/web-scraping-tutorial-python/"
   ]
  },
  {
   "cell_type": "code",
   "execution_count": 14,
   "metadata": {},
   "outputs": [
    {
     "name": "stdout",
     "output_type": "stream",
     "text": [
      "<table class=\"table table-bordered table-narrow\">\n",
      " <tbody>\n",
      "  <tr data-key=\"0\">\n",
      "   <td class=\"show-time\">\n",
      "    3:00 AM\n",
      "   </td>\n",
      "   <td>\n",
      "    <strong>\n",
      "     <a href=\"/WHRB/show/144765/river-styx-social-aid-and-pleasure-club\">\n",
      "      river styx social aid and pleasure club\n",
      "     </a>\n",
      "    </strong>\n",
      "    (TDS) with\n",
      "    <a href=\"https://spinitron.com/WHRB/dj/110988/hades\">\n",
      "     hades\n",
      "    </a>\n",
      "   </td>\n",
      "  </tr>\n",
      "  <tr data-key=\"1\">\n",
      "   <td class=\"show-time\">\n",
      "    3:00 AM\n",
      "   </td>\n",
      "   <td>\n",
      "    <strong>\n",
      "     <a href=\"/WHRB/show/145002/Cleanup-on-Aisle-9\">\n",
      "      Cleanup on Aisle 9\n",
      "     </a>\n",
      "    </strong>\n",
      "    (TDS) with\n",
      "    <a href=\"https://spinitron.com/WHRB/dj/111099/WHRB-TDS\">\n",
      "     WHRB TDS\n",
      "    </a>\n",
      "   </td>\n",
      "  </tr>\n",
      "  <tr data-key=\"2\">\n",
      "   <td class=\"show-time\">\n",
      "    3:00 AM\n",
      "   </td>\n",
      "   <td>\n",
      "    <strong>\n",
      "     <a href=\"/WHRB/show/145020/Good-Vibes-Only\">\n",
      "      Good Vibes Only\n",
      "     </a>\n",
      "    </strong>\n",
      "    (TDS) with\n",
      "    <a href=\"https://spinitron.com/WHRB/dj/111243/DJ-Fried\">\n",
      "     DJ Fried\n",
      "    </a>\n",
      "   </td>\n",
      "  </tr>\n",
      "  <tr data-key=\"3\">\n",
      "   <td class=\"show-time\">\n",
      "    3:30 AM\n",
      "   </td>\n",
      "   <td>\n",
      "    <strong>\n",
      "     <a href=\"/WHRB/show/201653/waldo\">\n",
      "      waldo\n",
      "     </a>\n",
      "    </strong>\n",
      "    (unset) with\n",
      "    <a href=\"https://spinitron.com/WHRB/dj/111102/WHRB-Record-Hospital\">\n",
      "     WHRB Record Hospital\n",
      "    </a>\n",
      "   </td>\n",
      "  </tr>\n",
      "  <tr data-key=\"4\">\n",
      "   <td class=\"show-time\">\n",
      "    4:00 AM\n",
      "   </td>\n",
      "   <td>\n",
      "    <strong>\n",
      "     <a href=\"/WHRB/show/144747/the-morning-after-edm-in-the-am\">\n",
      "      the morning after: edm in the am\n",
      "     </a>\n",
      "    </strong>\n",
      "    (TDS) with\n",
      "    <a href=\"https://spinitron.com/WHRB/dj/110619/pika\">\n",
      "     pika!\n",
      "    </a>\n",
      "   </td>\n",
      "  </tr>\n",
      " </tbody>\n",
      "</table>\n",
      "\n"
     ]
    }
   ],
   "source": [
    "page = requests.get('https://spinitron.com/WHRB/')\n",
    "soup = BeautifulSoup(page.content, 'html.parser')\n",
    "whrb_schedule = soup.find(id = 'w1')\n",
    "schedule = whrb_schedule.find_all(class_='table table-bordered table-narrow')\n",
    "coming_up = schedule[0]\n",
    "print(coming_up.prettify())"
   ]
  },
  {
   "cell_type": "code",
   "execution_count": 39,
   "metadata": {},
   "outputs": [
    {
     "name": "stdout",
     "output_type": "stream",
     "text": [
      "12:00 AM\n",
      "This is WHRB radiooo\n",
      "3:00 AM\n",
      "This is WHRB radiooo\n",
      "3:00 AM\n",
      "This is WHRB radiooo\n",
      "3:00 AM\n",
      "This is WHRB radiooo\n",
      "3:30 AM\n",
      "This is WHRB radiooo\n"
     ]
    }
   ],
   "source": [
    "hours = coming_up.find_all(class_='show-time')\n",
    "\n",
    "for hour in hours:\n",
    "    print(hour.get_text())\n",
    "    print('This is WHRB radiooo')\n",
    "    \n"
   ]
  },
  {
   "cell_type": "code",
   "execution_count": 11,
   "metadata": {},
   "outputs": [
    {
     "name": "stdout",
     "output_type": "stream",
     "text": [
      "MagazineThe End of the Harvard Century\n",
      "--C--R--I--M--S--O--N--\n",
      "NewsHUPD Officer Involved In February Smith Center Arrest Criticized For Use of Force In Two Prior Incidents\n",
      "--C--R--I--M--S--O--N--\n",
      "MultimediaIn Photos: Elizabeth Banks, Hasty Pudding's Woman of the Year\n",
      "--C--R--I--M--S--O--N--\n",
      "NewsThe Old Boys’ Network: Racism, Sexism, and Alleged Favoritism In Harvard’s Police Department\n",
      "--C--R--I--M--S--O--N--\n",
      "NewsCiting Toxic Culture and Administrator Departures, Harvard School of Public Health Faculty Repeatedly Weighed Voting No Confidence in Dean\n",
      "--C--R--I--M--S--O--N--\n",
      "NewsTen Stories That Shaped 2019\n",
      "--C--R--I--M--S--O--N--\n",
      "NewsTen Stories That Shaped the 2010s\n",
      "--C--R--I--M--S--O--N--\n",
      "NewsHere’s What Happened During The Grad Union Strike Today\n",
      "--C--R--I--M--S--O--N--\n",
      "NewsThe Crimson's Freshman Survey: Meet the Class of 2023\n",
      "--C--R--I--M--S--O--N--\n",
      "MagazineThe Neighborhood Where Nothing Ever Changes\n",
      "--C--R--I--M--S--O--N--\n",
      "MagazineFifteen Randomly Generated Seniors\n",
      "--C--R--I--M--S--O--N--\n",
      "MagazineThe Fire That Changed The Way We Think About Grief\n",
      "--C--R--I--M--S--O--N--\n",
      "NewsMeet the Five Harvard Students Who Testified in the Admissions Trial\n",
      "--C--R--I--M--S--O--N--\n",
      "MagazineLeft Out of the System\n",
      "--C--R--I--M--S--O--N--\n",
      "NewsHere’s How the Harvard Admissions Process Really Works\n",
      "--C--R--I--M--S--O--N--\n",
      "News‘Arrogance.’ ‘Small-Town Insecurity.’ Here's Why Harvard Hesitates to Accept Some Applicants\n",
      "--C--R--I--M--S--O--N--\n",
      "News‘This Is Not Who I Am’: For Harvard Admissions Dean, The Trial Is Personal\n",
      "--C--R--I--M--S--O--N--\n",
      "NewsAsian-American Harvard Admits Earned Highest Average SAT Score of Any Racial Group From 1995 to 2013\n",
      "--C--R--I--M--S--O--N--\n",
      "NewsAsian-American Harvard Applicants Saw Lowest Admit Rate of Any Racial Group From 1995 to 2013\n",
      "--C--R--I--M--S--O--N--\n",
      "NewsIn Admissions, Harvard Favors Those Who Fund It, Internal Emails Show\n",
      "--C--R--I--M--S--O--N--\n",
      "NewsHere's What Happened in the Harvard Admissions Trial Today\n",
      "--C--R--I--M--S--O--N--\n",
      "MagazineQueer in Print\n",
      "--C--R--I--M--S--O--N--\n",
      "NewsKavanaugh Will Not Return to Teach at Harvard Law School\n",
      "--C--R--I--M--S--O--N--\n",
      "NewsWhat One Student’s Marked-Up Harvard Application Reveals About the Admissions Process\n",
      "--C--R--I--M--S--O--N--\n"
     ]
    }
   ],
   "source": [
    "# 'https://www.thecrimson.com/section/features/'\n",
    "page = requests.get('https://www.thecrimson.com/section/features/')\n",
    "soup = BeautifulSoup(page.content, 'html.parser')\n",
    "pics = soup.find(id='root')\n",
    "\n",
    "captions = pics.find_all(class_='css-hbyhwj')\n",
    "\n",
    "\n",
    "for caption in captions:\n",
    "    print(caption.get_text())\n",
    "    print('--C--R--I--M--S--O--N--')\n",
    "    "
   ]
  },
  {
   "cell_type": "code",
   "execution_count": null,
   "metadata": {},
   "outputs": [],
   "source": []
  }
 ],
 "metadata": {
  "kernelspec": {
   "display_name": "Python 3",
   "language": "python",
   "name": "python3"
  },
  "language_info": {
   "codemirror_mode": {
    "name": "ipython",
    "version": 3
   },
   "file_extension": ".py",
   "mimetype": "text/x-python",
   "name": "python",
   "nbconvert_exporter": "python",
   "pygments_lexer": "ipython3",
   "version": "3.8.3"
  }
 },
 "nbformat": 4,
 "nbformat_minor": 2
}
